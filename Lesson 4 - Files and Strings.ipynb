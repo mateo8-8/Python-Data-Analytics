{
 "cells": [
  {
   "cell_type": "markdown",
   "id": "5d59d475",
   "metadata": {},
   "source": [
    "Lesson 4: Working with Files & Strings\n",
    "- Reading/Writing text files\n",
    "- String methods\n",
    "- Basic text processing\n",
    "\n",
    "\n",
    "\n",
    "🧰 Topics Covered:\n",
    "\n",
    "    File Handling:\n",
    "\n",
    "        Writing to files using open(..., \"w\") and context managers.\n",
    "\n",
    "        Reading file content with read() inside a with block.\n",
    "\n",
    "    String Methods:\n",
    "\n",
    "        Transformation methods like .upper(), .title(), and .replace() for basic string manipulation.\n",
    "\n",
    "    Text Processing:\n",
    "\n",
    "        Creating a simple word frequency counter by:\n",
    "\n",
    "            Lowercasing and splitting strings.\n",
    "\n",
    "            Using a dictionary to count occurrences.\n",
    "\n",
    "🧪 Key Concepts:\n",
    "\n",
    "    Context managers (with) for safe file I/O.\n",
    "\n",
    "    Common string transformations.\n",
    "\n",
    "    Basic natural language processing through tokenization and frequency mapping."
   ]
  },
  {
   "cell_type": "markdown",
   "id": "bbcc740e",
   "metadata": {},
   "source": [
    "📝 Writing to a file"
   ]
  },
  {
   "cell_type": "code",
   "execution_count": null,
   "id": "bd32a9e4",
   "metadata": {},
   "outputs": [],
   "source": [
    "with open(\"example.txt\", \"w\") as f:\n",
    "    f.write(\"Hello\\nWorld\\nPython\")\n"
   ]
  },
  {
   "cell_type": "markdown",
   "id": "b72a18d6",
   "metadata": {},
   "source": [
    "📖 Reading from a file"
   ]
  },
  {
   "cell_type": "code",
   "execution_count": null,
   "id": "90655431",
   "metadata": {},
   "outputs": [],
   "source": [
    "with open(\"example.txt\", \"r\") as f:\n",
    "    content = f.read()\n",
    "    print(content)\n"
   ]
  },
  {
   "cell_type": "markdown",
   "id": "bd8aac78",
   "metadata": {},
   "source": [
    "🔤 String Methods"
   ]
  },
  {
   "cell_type": "code",
   "execution_count": null,
   "id": "352f5d3c",
   "metadata": {},
   "outputs": [],
   "source": [
    "text = \"hello world\"\n",
    "print(text.upper())\n",
    "print(text.title())\n",
    "print(text.replace(\"world\", \"Python\"))\n"
   ]
  },
  {
   "cell_type": "markdown",
   "id": "b4c90e13",
   "metadata": {},
   "source": [
    "Ex4: Word Frequency Counter"
   ]
  },
  {
   "cell_type": "code",
   "execution_count": null,
   "id": "70b103f3",
   "metadata": {},
   "outputs": [],
   "source": [
    "def count_words(text):\n",
    "    words = text.lower().split()\n",
    "    freq = {}\n",
    "    for word in words:\n",
    "        freq[word] = freq.get(word, 0) + 1\n",
    "    return freq\n",
    "\n",
    "print(count_words(\"Python is great and Python is fun\"))"
   ]
  }
 ],
 "metadata": {
  "kernelspec": {
   "display_name": "Python 3 (ipykernel)",
   "language": "python",
   "name": "python3"
  },
  "language_info": {
   "codemirror_mode": {
    "name": "ipython",
    "version": 3
   },
   "file_extension": ".py",
   "mimetype": "text/x-python",
   "name": "python",
   "nbconvert_exporter": "python",
   "pygments_lexer": "ipython3",
   "version": "3.9.7"
  }
 },
 "nbformat": 4,
 "nbformat_minor": 5
}
