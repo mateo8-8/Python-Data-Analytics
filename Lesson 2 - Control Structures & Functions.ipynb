{
 "cells": [
  {
   "cell_type": "markdown",
   "id": "473ea891",
   "metadata": {},
   "source": [
    "Lesson 2: Control Structures & Functions\n",
    "- `if`, `else`, `elif`\n",
    "- Loops: `for`, `while`\n",
    "- Functions: defining, calling, parameters, return values\n",
    "\n",
    "\n",
    "🧰 Topics Covered:\n",
    "\n",
    "    Conditional Statements: if, elif, else to control logical flow.\n",
    "\n",
    "    Loops:\n",
    "\n",
    "        for loop to iterate over ranges.\n",
    "\n",
    "        while loop for repetition until a condition is met.\n",
    "\n",
    "    Functions:\n",
    "\n",
    "        Basics of function definition and calling.\n",
    "\n",
    "        Parameters and return values.\n",
    "\n",
    "        A basic prime-checking function using for and range().\n",
    "\n",
    "🧪 Key Concepts:\n",
    "\n",
    "    Control structures (decision-making and iteration).\n",
    "\n",
    "    Writing and using custom functions.\n",
    "\n",
    "    Applying logic to solve small problems (e.g., prime check)."
   ]
  },
  {
   "cell_type": "markdown",
   "id": "3cb272c9",
   "metadata": {},
   "source": [
    "If/Else Statements:"
   ]
  },
  {
   "cell_type": "code",
   "execution_count": 1,
   "id": "a4e5be6b",
   "metadata": {},
   "outputs": [
    {
     "name": "stdout",
     "output_type": "stream",
     "text": [
      "x is positive\n"
     ]
    }
   ],
   "source": [
    "x = 10\n",
    "\n",
    "if x > 0:\n",
    "    print(\"x is positive\")\n",
    "elif x == 0:\n",
    "    print(\"x is zero\")\n",
    "else:\n",
    "    print(\"x is negative\")"
   ]
  },
  {
   "cell_type": "markdown",
   "id": "97369be8",
   "metadata": {},
   "source": [
    "For Loop:"
   ]
  },
  {
   "cell_type": "code",
   "execution_count": 2,
   "id": "7e0b3d56",
   "metadata": {},
   "outputs": [
    {
     "name": "stdout",
     "output_type": "stream",
     "text": [
      "Iteration 0\n",
      "Iteration 1\n",
      "Iteration 2\n",
      "Iteration 3\n",
      "Iteration 4\n"
     ]
    }
   ],
   "source": [
    "for i in range(5):\n",
    "    print(f\"Iteration {i}\")"
   ]
  },
  {
   "cell_type": "markdown",
   "id": "e28e7f3b",
   "metadata": {},
   "source": [
    "While Loop"
   ]
  },
  {
   "cell_type": "code",
   "execution_count": 3,
   "id": "e1128cae",
   "metadata": {},
   "outputs": [
    {
     "name": "stdout",
     "output_type": "stream",
     "text": [
      "Counting: 0\n",
      "Counting: 1\n",
      "Counting: 2\n"
     ]
    }
   ],
   "source": [
    "count = 0\n",
    "while count < 3:\n",
    "    print(\"Counting:\", count)\n",
    "    count += 1\n"
   ]
  },
  {
   "cell_type": "markdown",
   "id": "490fb43c",
   "metadata": {},
   "source": [
    "Function:"
   ]
  },
  {
   "cell_type": "code",
   "execution_count": 4,
   "id": "e75e0455",
   "metadata": {},
   "outputs": [
    {
     "name": "stdout",
     "output_type": "stream",
     "text": [
      "Hello, World!\n"
     ]
    }
   ],
   "source": [
    "def say_hello():\n",
    "    print(\"Hello, World!\")\n",
    "\n",
    "say_hello()"
   ]
  },
  {
   "cell_type": "markdown",
   "id": "dece4be4",
   "metadata": {},
   "source": [
    "Functions with Parameters:"
   ]
  },
  {
   "cell_type": "code",
   "execution_count": 5,
   "id": "79f0a5e3",
   "metadata": {},
   "outputs": [
    {
     "name": "stdout",
     "output_type": "stream",
     "text": [
      "Hello, Alice!\n"
     ]
    }
   ],
   "source": [
    "def greet(name):\n",
    "    print(f\"Hello, {name}!\")\n",
    "\n",
    "greet(\"Alice\")"
   ]
  },
  {
   "cell_type": "markdown",
   "id": "b396cad7",
   "metadata": {},
   "source": [
    "Ex 2:  Check to see if a number is prime"
   ]
  },
  {
   "cell_type": "code",
   "execution_count": 6,
   "id": "e97f07a8",
   "metadata": {},
   "outputs": [
    {
     "name": "stdout",
     "output_type": "stream",
     "text": [
      "True\n",
      "False\n"
     ]
    }
   ],
   "source": [
    "def is_prime(n):\n",
    "    if n < 2:\n",
    "        return False\n",
    "    for i in range(2, int(n**0.5)+1):\n",
    "        if n % i == 0:\n",
    "            return False\n",
    "    return True\n",
    "\n",
    "print(is_prime(11))  # True\n",
    "print(is_prime(10))  # False"
   ]
  },
  {
   "cell_type": "code",
   "execution_count": null,
   "id": "52a33c2d",
   "metadata": {},
   "outputs": [],
   "source": []
  }
 ],
 "metadata": {
  "kernelspec": {
   "display_name": "Python 3 (ipykernel)",
   "language": "python",
   "name": "python3"
  },
  "language_info": {
   "codemirror_mode": {
    "name": "ipython",
    "version": 3
   },
   "file_extension": ".py",
   "mimetype": "text/x-python",
   "name": "python",
   "nbconvert_exporter": "python",
   "pygments_lexer": "ipython3",
   "version": "3.9.7"
  }
 },
 "nbformat": 4,
 "nbformat_minor": 5
}
