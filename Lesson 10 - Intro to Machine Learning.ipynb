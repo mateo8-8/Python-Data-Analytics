{
 "cells": [
  {
   "cell_type": "markdown",
   "id": "54f22628",
   "metadata": {},
   "source": [
    "Lesson 10: Machine Learning Introduction\n",
    "- Train/Test split\n",
    "- Logistic Regression\n",
    "- Evaluation\n",
    "\n",
    "\n",
    "Imports:\n",
    "Essential libraries are imported for data handling, model training, and evaluation.\n",
    "\n",
    "Load and Prepare Data:\n",
    "The Titanic dataset is loaded, filtered to select relevant features (sex, age, fare) and the target variable (survived). The sex feature is converted into a numerical format for model compatibility.\n",
    "\n",
    "Train/Test Split:\n",
    "The dataset is split into training and testing subsets to evaluate model performance on unseen data.\n",
    "\n",
    "Train Model:\n",
    "A logistic regression model is trained on the training data to predict survival outcomes.\n",
    "\n",
    "Predict & Evaluate:\n",
    "The trained model is used to predict survival on the test set, and the accuracy of these predictions is calculated and displayed."
   ]
  },
  {
   "cell_type": "code",
   "execution_count": 1,
   "id": "90ab856d",
   "metadata": {},
   "outputs": [],
   "source": [
    "from sklearn.model_selection import train_test_split\n",
    "from sklearn.linear_model import LogisticRegression\n",
    "from sklearn.metrics import accuracy_score\n",
    "import pandas as pd"
   ]
  },
  {
   "cell_type": "markdown",
   "id": "69f9c118",
   "metadata": {},
   "source": [
    "Load and prepare Titanic data"
   ]
  },
  {
   "cell_type": "code",
   "execution_count": 2,
   "id": "2eaa5da4",
   "metadata": {},
   "outputs": [],
   "source": [
    "df = pd.read_csv(\"https://raw.githubusercontent.com/mwaskom/seaborn-data/master/titanic.csv\")\n",
    "df = df[[\"sex\", \"age\", \"fare\", \"survived\"]].dropna()\n",
    "df[\"sex\"] = df[\"sex\"].map({\"male\": 0, \"female\": 1})\n",
    "\n",
    "X = df[[\"sex\", \"age\", \"fare\"]]\n",
    "y = df[\"survived\"]\n"
   ]
  },
  {
   "cell_type": "markdown",
   "id": "0d19a78b",
   "metadata": {},
   "source": [
    "Train/Test Split\n"
   ]
  },
  {
   "cell_type": "code",
   "execution_count": 3,
   "id": "974908dc",
   "metadata": {},
   "outputs": [],
   "source": [
    "X_train, X_test, y_train, y_test = train_test_split(X, y, test_size=0.2)"
   ]
  },
  {
   "cell_type": "markdown",
   "id": "95624415",
   "metadata": {},
   "source": [
    "Train Model\n"
   ]
  },
  {
   "cell_type": "code",
   "execution_count": 4,
   "id": "460e4dce",
   "metadata": {},
   "outputs": [
    {
     "data": {
      "text/plain": [
       "LogisticRegression()"
      ]
     },
     "execution_count": 4,
     "metadata": {},
     "output_type": "execute_result"
    }
   ],
   "source": [
    "model = LogisticRegression()\n",
    "model.fit(X_train, y_train)"
   ]
  },
  {
   "cell_type": "markdown",
   "id": "c186b9d3",
   "metadata": {},
   "source": [
    "Predict & Evaluate"
   ]
  },
  {
   "cell_type": "code",
   "execution_count": 5,
   "id": "292c3aac",
   "metadata": {},
   "outputs": [
    {
     "name": "stdout",
     "output_type": "stream",
     "text": [
      "Accuracy: 0.7622377622377622\n"
     ]
    }
   ],
   "source": [
    "predictions = model.predict(X_test)\n",
    "print(\"Accuracy:\", accuracy_score(y_test, predictions))"
   ]
  }
 ],
 "metadata": {
  "kernelspec": {
   "display_name": "Python 3 (ipykernel)",
   "language": "python",
   "name": "python3"
  },
  "language_info": {
   "codemirror_mode": {
    "name": "ipython",
    "version": 3
   },
   "file_extension": ".py",
   "mimetype": "text/x-python",
   "name": "python",
   "nbconvert_exporter": "python",
   "pygments_lexer": "ipython3",
   "version": "3.9.7"
  }
 },
 "nbformat": 4,
 "nbformat_minor": 5
}
