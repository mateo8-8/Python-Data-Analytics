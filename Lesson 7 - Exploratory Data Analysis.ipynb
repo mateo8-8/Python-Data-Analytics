{
 "cells": [
  {
   "cell_type": "markdown",
   "id": "3984ae55",
   "metadata": {},
   "source": [
    "Lesson 7: EDA with Pandas\n",
    "- Descriptive statistics\n",
    "- Grouping\n",
    "- Correlation\n",
    "\n",
    "\n",
    "Topics Covered:\n",
    "\n",
    "    Descriptive Statistics:\n",
    "    Use df.describe() to get count, mean, std, min, max, quartiles for numeric columns.\n",
    "\n",
    "    Grouping:\n",
    "    df.groupby(\"column\").mean() lets you aggregate statistics by groups (e.g., average scores by gender).\n",
    "\n",
    "    Correlation:\n",
    "    df.corr() computes pairwise correlation of numeric columns to identify relationships."
   ]
  },
  {
   "cell_type": "code",
   "execution_count": 1,
   "id": "b9d3dfbf",
   "metadata": {},
   "outputs": [],
   "source": [
    "import pandas as pd\n"
   ]
  },
  {
   "cell_type": "code",
   "execution_count": 2,
   "id": "c5ef84fb",
   "metadata": {},
   "outputs": [],
   "source": [
    "data = {\n",
    "    \"Gender\": [\"F\", \"M\", \"F\", \"M\"],\n",
    "    \"Score\": [88, 75, 95, 60]\n",
    "}\n",
    "df = pd.DataFrame(data)\n"
   ]
  },
  {
   "cell_type": "markdown",
   "id": "5fdf5457",
   "metadata": {},
   "source": [
    "Basic Stats"
   ]
  },
  {
   "cell_type": "code",
   "execution_count": 3,
   "id": "3730b9fc",
   "metadata": {},
   "outputs": [
    {
     "name": "stdout",
     "output_type": "stream",
     "text": [
      "           Score\n",
      "count   4.000000\n",
      "mean   79.500000\n",
      "std    15.416441\n",
      "min    60.000000\n",
      "25%    71.250000\n",
      "50%    81.500000\n",
      "75%    89.750000\n",
      "max    95.000000\n"
     ]
    }
   ],
   "source": [
    "print(df.describe())"
   ]
  },
  {
   "cell_type": "markdown",
   "id": "690db220",
   "metadata": {},
   "source": [
    "Group By Gender"
   ]
  },
  {
   "cell_type": "code",
   "execution_count": 4,
   "id": "930aabe4",
   "metadata": {},
   "outputs": [
    {
     "name": "stdout",
     "output_type": "stream",
     "text": [
      "        Score\n",
      "Gender       \n",
      "F        91.5\n",
      "M        67.5\n"
     ]
    }
   ],
   "source": [
    "print(df.groupby(\"Gender\").mean())"
   ]
  },
  {
   "cell_type": "markdown",
   "id": "7dd6e2b3",
   "metadata": {},
   "source": [
    "Correlation"
   ]
  },
  {
   "cell_type": "code",
   "execution_count": 5,
   "id": "82bca815",
   "metadata": {},
   "outputs": [
    {
     "name": "stdout",
     "output_type": "stream",
     "text": [
      "       Score\n",
      "Score    1.0\n"
     ]
    }
   ],
   "source": [
    "print(df.corr())"
   ]
  },
  {
   "cell_type": "code",
   "execution_count": null,
   "id": "5f0cc6b7",
   "metadata": {},
   "outputs": [],
   "source": []
  }
 ],
 "metadata": {
  "kernelspec": {
   "display_name": "Python 3 (ipykernel)",
   "language": "python",
   "name": "python3"
  },
  "language_info": {
   "codemirror_mode": {
    "name": "ipython",
    "version": 3
   },
   "file_extension": ".py",
   "mimetype": "text/x-python",
   "name": "python",
   "nbconvert_exporter": "python",
   "pygments_lexer": "ipython3",
   "version": "3.9.7"
  }
 },
 "nbformat": 4,
 "nbformat_minor": 5
}
