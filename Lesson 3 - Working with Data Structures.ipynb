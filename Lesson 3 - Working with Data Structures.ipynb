{
 "cells": [
  {
   "cell_type": "markdown",
   "id": "953df92c",
   "metadata": {},
   "source": [
    "Lesson 3: Data Structures\n",
    "- Lists, Tuples, Sets, Dictionaries\n",
    "- Comprehensions\n",
    "- Iteration\n",
    "\n",
    "\n",
    "\n",
    "🧰 Topics Covered:\n",
    "\n",
    "    Lists: Adding and removing elements with append() and remove().\n",
    "\n",
    "    Tuples: Immutable collections accessed by index.\n",
    "\n",
    "    Sets: Collections of unique elements created with set().\n",
    "\n",
    "    Dictionaries: Key-value pairs for structured data, using .get() for safe access.\n",
    "\n",
    "    List Comprehension: Compact syntax for generating lists.\n",
    "\n",
    "    Practical Example: Simple contact book using a dictionary and function.\n",
    "\n",
    "🧪 Key Concepts:\n",
    "\n",
    "    Mutability vs. immutability (e.g., list vs. tuple).\n",
    "\n",
    "    Efficient data lookups using dictionaries.\n",
    "\n",
    "    Cleaner iteration using comprehensions."
   ]
  },
  {
   "cell_type": "markdown",
   "id": "e2938d5f",
   "metadata": {},
   "source": [
    "🔢 Lists"
   ]
  },
  {
   "cell_type": "code",
   "execution_count": 1,
   "id": "2b17e25a",
   "metadata": {},
   "outputs": [
    {
     "name": "stdout",
     "output_type": "stream",
     "text": [
      "['apple', 'cherry', 'orange']\n"
     ]
    }
   ],
   "source": [
    "fruits = [\"apple\", \"banana\", \"cherry\"]\n",
    "fruits.append(\"orange\")\n",
    "fruits.remove(\"banana\")\n",
    "\n",
    "print(fruits)\n"
   ]
  },
  {
   "cell_type": "markdown",
   "id": "52376298",
   "metadata": {},
   "source": [
    "📦 Tuples"
   ]
  },
  {
   "cell_type": "code",
   "execution_count": 2,
   "id": "1e92f335",
   "metadata": {},
   "outputs": [
    {
     "name": "stdout",
     "output_type": "stream",
     "text": [
      "Alice\n"
     ]
    }
   ],
   "source": [
    "person = (\"Alice\", 25, \"Engineer\")\n",
    "print(person[0])  # Alice"
   ]
  },
  {
   "cell_type": "markdown",
   "id": "6f3a8f6a",
   "metadata": {},
   "source": [
    "🔁 Set: Unique Values"
   ]
  },
  {
   "cell_type": "code",
   "execution_count": 3,
   "id": "af0431a0",
   "metadata": {},
   "outputs": [
    {
     "name": "stdout",
     "output_type": "stream",
     "text": [
      "{1, 2, 3, 4}\n"
     ]
    }
   ],
   "source": [
    "nums = [1, 2, 2, 3, 4, 4]\n",
    "unique_nums = set(nums)\n",
    "print(unique_nums)"
   ]
  },
  {
   "cell_type": "markdown",
   "id": "87033c0c",
   "metadata": {},
   "source": [
    "🗂️ Dictionary"
   ]
  },
  {
   "cell_type": "code",
   "execution_count": 4,
   "id": "90033c36",
   "metadata": {},
   "outputs": [
    {
     "name": "stdout",
     "output_type": "stream",
     "text": [
      "{'name': 'Alice', 'age': 25, 'job': 'Engineer'}\n"
     ]
    }
   ],
   "source": [
    "person = {\"name\": \"Alice\", \"age\": 25}\n",
    "person[\"job\"] = \"Engineer\"\n",
    "\n",
    "print(person)\n"
   ]
  },
  {
   "cell_type": "markdown",
   "id": "c91c7b39",
   "metadata": {},
   "source": [
    "🧠 List Comprehension\n"
   ]
  },
  {
   "cell_type": "code",
   "execution_count": 5,
   "id": "f3e67d8e",
   "metadata": {},
   "outputs": [
    {
     "name": "stdout",
     "output_type": "stream",
     "text": [
      "[0, 1, 4, 9, 16]\n"
     ]
    }
   ],
   "source": [
    "squares = [x**2 for x in range(5)]\n",
    "print(squares)\n"
   ]
  },
  {
   "cell_type": "markdown",
   "id": "6041f84e",
   "metadata": {},
   "source": [
    "Ex3: Contact Book"
   ]
  },
  {
   "cell_type": "code",
   "execution_count": 6,
   "id": "792cdcb1",
   "metadata": {},
   "outputs": [
    {
     "name": "stdout",
     "output_type": "stream",
     "text": [
      "555-1234\n"
     ]
    }
   ],
   "source": [
    "contacts = {\n",
    "    \"Alice\": \"555-1234\",\n",
    "    \"Bob\": \"555-5678\"\n",
    "}\n",
    "\n",
    "def find_contact(name):\n",
    "    return contacts.get(name, \"Not found\")\n",
    "\n",
    "print(find_contact(\"Alice\"))"
   ]
  },
  {
   "cell_type": "code",
   "execution_count": null,
   "id": "96e16fff",
   "metadata": {},
   "outputs": [],
   "source": []
  }
 ],
 "metadata": {
  "kernelspec": {
   "display_name": "Python 3 (ipykernel)",
   "language": "python",
   "name": "python3"
  },
  "language_info": {
   "codemirror_mode": {
    "name": "ipython",
    "version": 3
   },
   "file_extension": ".py",
   "mimetype": "text/x-python",
   "name": "python",
   "nbconvert_exporter": "python",
   "pygments_lexer": "ipython3",
   "version": "3.9.7"
  }
 },
 "nbformat": 4,
 "nbformat_minor": 5
}
