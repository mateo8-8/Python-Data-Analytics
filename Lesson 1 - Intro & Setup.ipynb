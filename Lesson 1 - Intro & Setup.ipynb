{
 "cells": [
  {
   "cell_type": "markdown",
   "id": "909c0ffe",
   "metadata": {},
   "source": [
    "Lesson 1: Introduction to Python & Setup\n",
    "In this lesson, we will:\n",
    "- Set up your Python environment\n",
    "- Learn about variables, data types, and simple operations\n",
    "- Practice using input and output\n",
    "\n",
    "\n",
    " Topics Covered:\n",
    "\n",
    "    Setting up the Python environment.\n",
    "\n",
    "    Introduction to basic data types: strings, integers, floats, and booleans.\n",
    "\n",
    "    Performing arithmetic operations (addition, subtraction, multiplication, etc.).\n",
    "\n",
    "    String manipulation (concatenation, uppercasing, and measuring length).\n",
    "\n",
    "    Accepting user input using input().\n",
    "\n",
    "    Creating a simple function to greet the user.\n",
    "\n",
    "🧪 Key Methods & Concepts:\n",
    "\n",
    "    print(), input(), len(), .upper()\n",
    "\n",
    "    Arithmetic operators: +, -, *, /, //, %, **\n",
    "\n",
    "    Function definition with def"
   ]
  },
  {
   "cell_type": "markdown",
   "id": "9c40ddb1",
   "metadata": {},
   "source": [
    "Basic Data Types:"
   ]
  },
  {
   "cell_type": "code",
   "execution_count": 1,
   "id": "055883bb",
   "metadata": {},
   "outputs": [
    {
     "name": "stdout",
     "output_type": "stream",
     "text": [
      "Alice 25 5.4 True\n"
     ]
    }
   ],
   "source": [
    "# String\n",
    "name = \"Alice\"\n",
    "# Integer\n",
    "age = 25\n",
    "# Float\n",
    "height = 5.4\n",
    "# Boolean\n",
    "is_student = True\n",
    "\n",
    "print(name, age, height, is_student)"
   ]
  },
  {
   "cell_type": "markdown",
   "id": "602c109b",
   "metadata": {},
   "source": [
    "Basic Arithmetic Operations"
   ]
  },
  {
   "cell_type": "code",
   "execution_count": 2,
   "id": "7c59ec52",
   "metadata": {},
   "outputs": [
    {
     "name": "stdout",
     "output_type": "stream",
     "text": [
      "Addition: 13\n",
      "Subtraction: 7\n",
      "Multiplication: 30\n",
      "Division: 3.3333333333333335\n",
      "Floor Division: 3\n",
      "Modulus: 1\n",
      "Exponentiation: 1000\n"
     ]
    }
   ],
   "source": [
    "a = 10\n",
    "b = 3\n",
    "\n",
    "print(\"Addition:\", a + b)\n",
    "print(\"Subtraction:\", a - b)\n",
    "print(\"Multiplication:\", a * b)\n",
    "print(\"Division:\", a / b)\n",
    "print(\"Floor Division:\", a // b)\n",
    "print(\"Modulus:\", a % b)\n",
    "print(\"Exponentiation:\", a ** b)"
   ]
  },
  {
   "cell_type": "markdown",
   "id": "99323d19",
   "metadata": {},
   "source": [
    "String Manipulation:"
   ]
  },
  {
   "cell_type": "code",
   "execution_count": 3,
   "id": "c8a4174e",
   "metadata": {},
   "outputs": [
    {
     "name": "stdout",
     "output_type": "stream",
     "text": [
      "Full Name: John Doe\n",
      "Uppercase: JOHN DOE\n",
      "Length of name: 8\n"
     ]
    }
   ],
   "source": [
    "first_name = \"John\"\n",
    "last_name = \"Doe\"\n",
    "full_name = first_name + \" \" + last_name\n",
    "\n",
    "print(\"Full Name:\", full_name)\n",
    "print(\"Uppercase:\", full_name.upper())\n",
    "print(\"Length of name:\", len(full_name))"
   ]
  },
  {
   "cell_type": "markdown",
   "id": "616c797a",
   "metadata": {},
   "source": [
    "User Input:"
   ]
  },
  {
   "cell_type": "code",
   "execution_count": 4,
   "id": "b7fe1401",
   "metadata": {},
   "outputs": [
    {
     "name": "stdout",
     "output_type": "stream",
     "text": [
      "Enter your name: matt\n",
      "Enter your age: 90\n",
      "Hello matt! You are 90 years old.\n"
     ]
    }
   ],
   "source": [
    "user_name = input(\"Enter your name: \")\n",
    "user_age = input(\"Enter your age: \")\n",
    "print(\"Hello\", user_name + \"!\", \"You are\", user_age, \"years old.\")\n"
   ]
  },
  {
   "cell_type": "markdown",
   "id": "af3baf5e",
   "metadata": {},
   "source": [
    "Ex1:"
   ]
  },
  {
   "cell_type": "code",
   "execution_count": 5,
   "id": "2414fafc",
   "metadata": {},
   "outputs": [
    {
     "name": "stdout",
     "output_type": "stream",
     "text": [
      "Hello TestUser, you are 30 years old. Welcome to Python!\n"
     ]
    }
   ],
   "source": [
    "def greet_user():\n",
    "    # name = input(\"What's your name? \")\n",
    "    # age = input(\"How old are you? \")\n",
    "    name = \"TestUser\"\n",
    "    age = \"30\"\n",
    "    print(f\"Hello {name}, you are {age} years old. Welcome to Python!\")\n",
    "\n",
    "greet_user()"
   ]
  },
  {
   "cell_type": "code",
   "execution_count": null,
   "id": "3d02b2d0",
   "metadata": {},
   "outputs": [],
   "source": []
  }
 ],
 "metadata": {
  "kernelspec": {
   "display_name": "Python 3 (ipykernel)",
   "language": "python",
   "name": "python3"
  },
  "language_info": {
   "codemirror_mode": {
    "name": "ipython",
    "version": 3
   },
   "file_extension": ".py",
   "mimetype": "text/x-python",
   "name": "python",
   "nbconvert_exporter": "python",
   "pygments_lexer": "ipython3",
   "version": "3.9.7"
  }
 },
 "nbformat": 4,
 "nbformat_minor": 5
}
