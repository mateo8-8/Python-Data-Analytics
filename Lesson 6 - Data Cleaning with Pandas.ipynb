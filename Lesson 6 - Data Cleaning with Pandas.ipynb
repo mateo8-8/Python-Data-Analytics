{
 "cells": [
  {
   "cell_type": "markdown",
   "id": "83f94edc",
   "metadata": {},
   "source": [
    "Lesson 6: Data Cleaning\n",
    "- Missing values\n",
    "- Renaming, dropping\n",
    "- Type conversion\n",
    "\n",
    "\n",
    "🧰 Topics Covered:\n",
    "\n",
    "    Handling Missing Values:\n",
    "\n",
    "        Use fillna() to replace NaN with defaults or statistical values (e.g., mean).\n",
    "\n",
    "    Renaming Columns:\n",
    "\n",
    "        rename(columns={...}, inplace=True) to change column labels.\n",
    "\n",
    "    Applying Functions:\n",
    "\n",
    "        Use .apply() for column-wise transformations, such as categorizing based on conditions.\n",
    "\n",
    "    Type Conversion & Dropping (not shown, but typically includes):\n",
    "\n",
    "        Convert with astype(), and drop with drop() or dropna()."
   ]
  },
  {
   "cell_type": "code",
   "execution_count": 1,
   "id": "196883b7",
   "metadata": {},
   "outputs": [],
   "source": [
    "import pandas as pd"
   ]
  },
  {
   "cell_type": "code",
   "execution_count": 2,
   "id": "ce7c4643",
   "metadata": {},
   "outputs": [
    {
     "name": "stdout",
     "output_type": "stream",
     "text": [
      "    Name   Age\n",
      "0  Alice  25.0\n",
      "1    Bob   NaN\n",
      "2   None  30.0\n"
     ]
    }
   ],
   "source": [
    "df = pd.DataFrame({\n",
    "    \"Name\": [\"Alice\", \"Bob\", None],\n",
    "    \"Age\": [25, None, 30]\n",
    "})\n",
    "\n",
    "print(df)"
   ]
  },
  {
   "cell_type": "markdown",
   "id": "80b20a17",
   "metadata": {},
   "source": [
    "Handling Missing Values"
   ]
  },
  {
   "cell_type": "code",
   "execution_count": 3,
   "id": "4782e349",
   "metadata": {},
   "outputs": [
    {
     "name": "stdout",
     "output_type": "stream",
     "text": [
      "      Name   Age\n",
      "0    Alice  25.0\n",
      "1      Bob  27.5\n",
      "2  Unknown  30.0\n"
     ]
    }
   ],
   "source": [
    "df = df.fillna({\"Name\": \"Unknown\", \"Age\": df[\"Age\"].mean()})\n",
    "print(df)\n"
   ]
  },
  {
   "cell_type": "markdown",
   "id": "8b75e335",
   "metadata": {},
   "source": [
    "Rename Columns"
   ]
  },
  {
   "cell_type": "code",
   "execution_count": 4,
   "id": "34631408",
   "metadata": {},
   "outputs": [
    {
     "name": "stdout",
     "output_type": "stream",
     "text": [
      "  FullName   Age\n",
      "0    Alice  25.0\n",
      "1      Bob  27.5\n",
      "2  Unknown  30.0\n"
     ]
    }
   ],
   "source": [
    "df.rename(columns={\"Name\": \"FullName\"}, inplace=True)\n",
    "print(df)\n"
   ]
  },
  {
   "cell_type": "markdown",
   "id": "5be84d57",
   "metadata": {},
   "source": [
    "Apply a function"
   ]
  },
  {
   "cell_type": "code",
   "execution_count": 5,
   "id": "a096f21a",
   "metadata": {},
   "outputs": [
    {
     "name": "stdout",
     "output_type": "stream",
     "text": [
      "  FullName   Age Age Category\n",
      "0    Alice  25.0        Young\n",
      "1      Bob  27.5        Young\n",
      "2  Unknown  30.0        Adult\n"
     ]
    }
   ],
   "source": [
    "df[\"Age Category\"] = df[\"Age\"].apply(lambda x: \"Young\" if x < 30 else \"Adult\")\n",
    "print(df)"
   ]
  },
  {
   "cell_type": "code",
   "execution_count": null,
   "id": "bd7bf9ba",
   "metadata": {},
   "outputs": [],
   "source": []
  }
 ],
 "metadata": {
  "kernelspec": {
   "display_name": "Python 3 (ipykernel)",
   "language": "python",
   "name": "python3"
  },
  "language_info": {
   "codemirror_mode": {
    "name": "ipython",
    "version": 3
   },
   "file_extension": ".py",
   "mimetype": "text/x-python",
   "name": "python",
   "nbconvert_exporter": "python",
   "pygments_lexer": "ipython3",
   "version": "3.9.7"
  }
 },
 "nbformat": 4,
 "nbformat_minor": 5
}
