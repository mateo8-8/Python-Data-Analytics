{
 "cells": [
  {
   "cell_type": "markdown",
   "id": "4196cef6",
   "metadata": {},
   "source": [
    "Lesson 5: Numpy and Pandas Introduction\n",
    "- Numpy arrays\n",
    "- Pandas Series and DataFrames\n",
    "- Basic operations\n",
    "\n",
    "\n",
    "\n",
    "🧰 Topics Covered:\n",
    "\n",
    "    NumPy Arrays:\n",
    "\n",
    "        Creation of arrays with np.array().\n",
    "\n",
    "        Element-wise operations (e.g., arr * 2 for vectorized multiplication).\n",
    "\n",
    "    Pandas:\n",
    "\n",
    "        Series: One-dimensional labeled arrays.\n",
    "\n",
    "        DataFrames: Tabular data structures created from dictionaries.\n",
    "\n",
    "        CSV Handling: Loading data using pd.read_csv() and previewing with .head().\n",
    "\n",
    "🧪 Key Concepts:\n",
    "\n",
    "    Efficient numerical computation with NumPy.\n",
    "\n",
    "    Basic data analysis and tabular manipulation with Pandas.\n",
    "\n",
    "    Understanding the structure and power of Series and DataFrames."
   ]
  },
  {
   "cell_type": "code",
   "execution_count": 1,
   "id": "5612b6f4",
   "metadata": {},
   "outputs": [],
   "source": [
    "import numpy as np\n",
    "import pandas as pd\n"
   ]
  },
  {
   "cell_type": "markdown",
   "id": "c1ac6cd8",
   "metadata": {},
   "source": [
    "🔢 Numpy Arrays"
   ]
  },
  {
   "cell_type": "code",
   "execution_count": 2,
   "id": "a1890611",
   "metadata": {},
   "outputs": [
    {
     "name": "stdout",
     "output_type": "stream",
     "text": [
      "[2 4 6]\n"
     ]
    }
   ],
   "source": [
    "\n",
    "arr = np.array([1, 2, 3])\n",
    "print(arr * 2)\n"
   ]
  },
  {
   "cell_type": "markdown",
   "id": "9bcd40c6",
   "metadata": {},
   "source": [
    " 📊 Pandas Series"
   ]
  },
  {
   "cell_type": "code",
   "execution_count": 3,
   "id": "72f190a8",
   "metadata": {},
   "outputs": [
    {
     "name": "stdout",
     "output_type": "stream",
     "text": [
      "a    10\n",
      "b    20\n",
      "c    30\n",
      "dtype: int64\n"
     ]
    }
   ],
   "source": [
    "s = pd.Series([10, 20, 30], index=[\"a\", \"b\", \"c\"])\n",
    "print(s)"
   ]
  },
  {
   "cell_type": "markdown",
   "id": "0bb22fd1",
   "metadata": {},
   "source": [
    "📋 DataFrame from Dictionary"
   ]
  },
  {
   "cell_type": "code",
   "execution_count": 4,
   "id": "783eeaea",
   "metadata": {},
   "outputs": [
    {
     "name": "stdout",
     "output_type": "stream",
     "text": [
      "    name  age\n",
      "0  Alice   25\n",
      "1    Bob   30\n"
     ]
    }
   ],
   "source": [
    "data = {\n",
    "    \"name\": [\"Alice\", \"Bob\"],\n",
    "    \"age\": [25, 30]\n",
    "}\n",
    "\n",
    "df = pd.DataFrame(data)\n",
    "print(df)"
   ]
  },
  {
   "cell_type": "markdown",
   "id": "1f3c2b4f",
   "metadata": {},
   "source": [
    "📁 Load CSV"
   ]
  },
  {
   "cell_type": "code",
   "execution_count": null,
   "id": "d744d506",
   "metadata": {},
   "outputs": [],
   "source": [
    "df = pd.read_csv(\"data.csv\")\n",
    "df.head()"
   ]
  }
 ],
 "metadata": {
  "kernelspec": {
   "display_name": "Python 3 (ipykernel)",
   "language": "python",
   "name": "python3"
  },
  "language_info": {
   "codemirror_mode": {
    "name": "ipython",
    "version": 3
   },
   "file_extension": ".py",
   "mimetype": "text/x-python",
   "name": "python",
   "nbconvert_exporter": "python",
   "pygments_lexer": "ipython3",
   "version": "3.9.7"
  }
 },
 "nbformat": 4,
 "nbformat_minor": 5
}
